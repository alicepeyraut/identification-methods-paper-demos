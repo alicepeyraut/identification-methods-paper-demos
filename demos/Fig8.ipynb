{
 "cells": [
  {
   "attachments": {},
   "cell_type": "markdown",
   "metadata": {},
   "source": [
    "# Figure 8"
   ]
  },
  {
   "attachments": {},
   "cell_type": "markdown",
   "metadata": {},
   "source": [
    "## Imports"
   ]
  },
  {
   "cell_type": "code",
   "execution_count": null,
   "metadata": {},
   "outputs": [],
   "source": [
    "import dolfin\n",
    "import matplotlib.pyplot as plt\n",
    "import numpy\n",
    "import pandas\n",
    "\n",
    "import dolfin_mech as dmech\n",
    "\n",
    "import get_invariants"
   ]
  },
  {
   "attachments": {},
   "cell_type": "markdown",
   "metadata": {},
   "source": [
    "## Parameters"
   ]
  },
  {
   "attachments": {},
   "cell_type": "markdown",
   "metadata": {},
   "source": [
    "### Mesh"
   ]
  },
  {
   "cell_type": "code",
   "execution_count": null,
   "metadata": {},
   "outputs": [],
   "source": [
    "cube_params = {\"path_and_mesh_name\":\"Data/generic_mesh.xdmf\"}"
   ]
  },
  {
   "attachments": {},
   "cell_type": "markdown",
   "metadata": {},
   "source": [
    "### Material"
   ]
  },
  {
   "cell_type": "code",
   "execution_count": null,
   "metadata": {},
   "outputs": [],
   "source": [
    "params = {\n",
    "    \"alpha\":0.16,     # kPa\n",
    "    \"gamma\":0.5,      # [-]\n",
    "    \"c1\":1.2,         # kPa\n",
    "    \"c2\":0.,          # kPa\n",
    "    \"kappa\":1e2,      # kPa\n",
    "    \"eta\":1e-5,       # kPa\n",
    "    \"rho_solid\":1e-6} # g/mm3\n",
    "mat_params = {\"scaling\":\"linear\", \"parameters\":params}"
   ]
  },
  {
   "attachments": {},
   "cell_type": "markdown",
   "metadata": {},
   "source": [
    "### Loading"
   ]
  },
  {
   "cell_type": "code",
   "execution_count": null,
   "metadata": {},
   "outputs": [],
   "source": [
    "pe = -0.5    # kPa\n",
    "pi = -3.0    # kPa\n",
    "g  = +9.81e3 # mm/s2\n",
    "\n",
    "h_lst = [0., -0.005, +0.005, -0.0065, +0.0065]"
   ]
  },
  {
   "attachments": {},
   "cell_type": "markdown",
   "metadata": {},
   "source": [
    "## Computing strain fields"
   ]
  },
  {
   "cell_type": "code",
   "execution_count": null,
   "metadata": {},
   "outputs": [],
   "source": [
    "invariants = {}\n",
    "\n",
    "for h in h_lst:\n",
    "\n",
    "    ### computing the unloaded configuration\n",
    "    Uref, phisref_computation, dV_expi_ini = dmech.run_RivlinCube_PoroHyperelasticity(\n",
    "        inverse=1,\n",
    "        cube_params=cube_params,\n",
    "        mat_params=mat_params,\n",
    "        inertia_params={\"applied\":True, \"rho_val\":1e-8},\n",
    "        step_params={\"dt_min\":1e-4, \"dt_ini\":1},\n",
    "        load_params={\"type\":\"p_boundary_condition0\", \"f\":g, \"P0\":float(pe), \"H\":h},\n",
    "        res_basename=\"Fig8-unloaded\",\n",
    "        get_results=1,\n",
    "        verbose=1)\n",
    "\n",
    "    phisref_imposed = [numpy.random.uniform(low=0.4, high=0.6) for i in range(len(phisref_computation))]\n",
    "\n",
    "    ### computing the end-exhalation configuration\n",
    "    U_exhal, phisexhal, dV_unloaded = dmech.run_RivlinCube_PoroHyperelasticity(\n",
    "        cube_params=cube_params,\n",
    "        move_params = {\"move\":True, \"U\":Uref},\n",
    "        porosity_params={\"type\":\"function_xml_from_array\", \"val\":phisref_imposed},\n",
    "        mat_params=mat_params,\n",
    "        inertia_params={\"applied\":True, \"rho_val\":1e-8},\n",
    "        step_params={\"dt_min\":1e-4, \"dt_ini\":0.125},\n",
    "        load_params={\"type\":\"p_boundary_condition\", \"f\":g, \"P0\":float(pe), \"H\":h},\n",
    "        res_basename=\"Fig8-exhalation\",\n",
    "        get_results=1,\n",
    "        verbose=1)\n",
    "\n",
    "    ### computing the end-inhalation configuration\n",
    "    U_inhal, phisinhal, dV_unloaded = dmech.run_RivlinCube_PoroHyperelasticity(\n",
    "        cube_params=cube_params,\n",
    "        move_params = {\"move\":True, \"U\":Uref},\n",
    "        porosity_params={\"type\":\"function_xml_from_array\", \"val\":phisref_imposed},\n",
    "        mat_params=mat_params,\n",
    "        inertia_params={\"applied\":True, \"rho_val\":1e-8},\n",
    "        step_params={\"dt_min\":1e-4, \"dt_ini\":0.125},\n",
    "        load_params={\"type\":\"p_boundary_condition\", \"f\":g, \"P0\":float(pi), \"H\":h},\n",
    "        res_basename=\"Fig8-inhalation\",\n",
    "        get_results=1,\n",
    "        verbose=1)\n",
    "\n",
    "    mesh = dolfin.Mesh()\n",
    "    mesh_name = str(cube_params[\"path_and_mesh_name\"])\n",
    "    dolfin.XDMFFile(mesh_name).read(mesh)\n",
    "    dolfin.ALE.move(mesh, Uref)\n",
    "\n",
    "    invariants_mesh = get_invariants.get_invariants(U_exhal=U_exhal, U_inhal=U_inhal, mesh=mesh)\n",
    "    invariants[\"h=\"+str(h)] = invariants_mesh"
   ]
  },
  {
   "attachments": {},
   "cell_type": "markdown",
   "metadata": {},
   "source": [
    "## Generating plots"
   ]
  },
  {
   "attachments": {},
   "cell_type": "markdown",
   "metadata": {},
   "source": [
    "### [Hurtado et al.]'s data"
   ]
  },
  {
   "cell_type": "code",
   "execution_count": null,
   "metadata": {},
   "outputs": [],
   "source": [
    "J  = pandas.read_table(\"Data/hurtado_J.dat\" , sep=\"\\s+\", usecols=[\"zone\", \"mean\", \"mean+std\", \"mean-std\"]).to_dict(\"list\")\n",
    "I1 = pandas.read_table(\"Data/hurtado_I1.dat\", sep=\"\\s+\", usecols=[\"zone\", \"mean\", \"mean+std\", \"mean-std\"]).to_dict(\"list\")\n",
    "I2 = pandas.read_table(\"Data/hurtado_I2.dat\", sep=\"\\s+\", usecols=[\"zone\", \"mean\", \"mean+std\", \"mean-std\"]).to_dict(\"list\")"
   ]
  },
  {
   "attachments": {},
   "cell_type": "markdown",
   "metadata": {},
   "source": [
    "### I1"
   ]
  },
  {
   "cell_type": "code",
   "execution_count": null,
   "metadata": {},
   "outputs": [],
   "source": [
    "fig, ax = plt.subplots()\n",
    "data = [[I1[\"mean\"][i], I1[\"mean+std\"][i], I1[\"mean-std\"][i]] for i in range(len(I1[\"zone\"]))]\n",
    "ax.boxplot(data)\n",
    "plt.plot(invariants[\"h=0.0\"][\"zone\"]    , invariants[\"h=0.0\"][\"I1^\"]    , color=\"green\" , linestyle=\"-\", marker=\".\", label=\"Model w/ gravity, H=0\"  )\n",
    "plt.plot(invariants[\"h=0.005\"][\"zone\"]  , invariants[\"h=0.005\"][\"I1^\"]  , color=\"red\"   , linestyle=\"-\", marker=\".\", label=\"Model w/ gravity, H=+H1\")\n",
    "plt.plot(invariants[\"h=-0.005\"][\"zone\"] , invariants[\"h=-0.005\"][\"I1^\"] , color=\"blue\"  , linestyle=\"-\", marker=\".\", label=\"Model w/ gravity, H=-H1\")\n",
    "plt.plot(invariants[\"h=0.0065\"][\"zone\"] , invariants[\"h=0.0065\"][\"I1^\"] , color=\"purple\", linestyle=\"-\", marker=\".\", label=\"Model w/ gravity, H=+H2\")\n",
    "plt.plot(invariants[\"h=-0.0065\"][\"zone\"], invariants[\"h=-0.0065\"][\"I1^\"], color=\"orange\", linestyle=\"-\", marker=\".\", label=\"Model w/ gravity, H=-H2\")\n",
    "plt.grid()\n",
    "plt.legend()\n",
    "plt.show()"
   ]
  },
  {
   "attachments": {},
   "cell_type": "markdown",
   "metadata": {},
   "source": [
    "### I2"
   ]
  },
  {
   "cell_type": "code",
   "execution_count": null,
   "metadata": {},
   "outputs": [],
   "source": [
    "fig, ax = plt.subplots()\n",
    "data = [[I2[\"mean\"][i], I2[\"mean+std\"][i], I2[\"mean-std\"][i]] for i in range(len(I2[\"zone\"]))]\n",
    "ax.boxplot(data)\n",
    "plt.plot(invariants[\"h=0.0\"][\"zone\"]    , invariants[\"h=0.0\"][\"I2^\"]    , color=\"green\" , linestyle=\"-\", marker=\".\", label=\"Model w/ gravity, H=0\"  )\n",
    "plt.plot(invariants[\"h=0.005\"][\"zone\"]  , invariants[\"h=0.005\"][\"I2^\"]  , color=\"red\"   , linestyle=\"-\", marker=\".\", label=\"Model w/ gravity, H=+H1\")\n",
    "plt.plot(invariants[\"h=-0.005\"][\"zone\"] , invariants[\"h=-0.005\"][\"I2^\"] , color=\"blue\"  , linestyle=\"-\", marker=\".\", label=\"Model w/ gravity, H=-H1\")\n",
    "plt.plot(invariants[\"h=0.0065\"][\"zone\"] , invariants[\"h=0.0065\"][\"I2^\"] , color=\"purple\", linestyle=\"-\", marker=\".\", label=\"Model w/ gravity, H=+H2\")\n",
    "plt.plot(invariants[\"h=-0.0065\"][\"zone\"], invariants[\"h=-0.0065\"][\"I2^\"], color=\"orange\", linestyle=\"-\", marker=\".\", label=\"Model w/ gravity, H=-H2\")\n",
    "plt.grid()\n",
    "plt.legend()\n",
    "plt.show()"
   ]
  },
  {
   "attachments": {},
   "cell_type": "markdown",
   "metadata": {},
   "source": [
    "### J"
   ]
  },
  {
   "cell_type": "code",
   "execution_count": null,
   "metadata": {},
   "outputs": [],
   "source": [
    "fig, ax = plt.subplots()\n",
    "data = [[J[\"mean\"][i], J[\"mean+std\"][i], J[\"mean-std\"][i]] for i in range(len(J[\"zone\"]))]\n",
    "ax.boxplot(data)\n",
    "plt.plot(invariants[\"h=0.0\"][\"zone\"]    , invariants[\"h=0.0\"][\"J^\"]    , color=\"green\" , linestyle=\"-\", marker=\".\", label=\"Model w/ gravity, H=0\"  )\n",
    "plt.plot(invariants[\"h=0.005\"][\"zone\"]  , invariants[\"h=0.005\"][\"J^\"]  , color=\"red\"   , linestyle=\"-\", marker=\".\", label=\"Model w/ gravity, H=+H1\")\n",
    "plt.plot(invariants[\"h=-0.005\"][\"zone\"] , invariants[\"h=-0.005\"][\"J^\"] , color=\"blue\"  , linestyle=\"-\", marker=\".\", label=\"Model w/ gravity, H=-H1\")\n",
    "plt.plot(invariants[\"h=0.0065\"][\"zone\"] , invariants[\"h=0.0065\"][\"J^\"] , color=\"purple\", linestyle=\"-\", marker=\".\", label=\"Model w/ gravity, H=+H2\")\n",
    "plt.plot(invariants[\"h=-0.0065\"][\"zone\"], invariants[\"h=-0.0065\"][\"J^\"], color=\"orange\", linestyle=\"-\", marker=\".\", label=\"Model w/ gravity, H=-H2\")\n",
    "plt.grid()\n",
    "plt.legend()\n",
    "plt.show()"
   ]
  }
 ],
 "metadata": {
  "kernelspec": {
   "display_name": "all",
   "language": "python",
   "name": "python3"
  },
  "language_info": {
   "codemirror_mode": {
    "name": "ipython",
    "version": 3
   },
   "file_extension": ".py",
   "mimetype": "text/x-python",
   "name": "python",
   "nbconvert_exporter": "python",
   "pygments_lexer": "ipython3",
   "version": "3.8.12"
  },
  "orig_nbformat": 4
 },
 "nbformat": 4,
 "nbformat_minor": 2
}
