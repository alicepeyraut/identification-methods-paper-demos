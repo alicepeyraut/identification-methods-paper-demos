{
 "cells": [
  {
   "attachments": {},
   "cell_type": "markdown",
   "metadata": {},
   "source": [
    "# Error due model errors"
   ]
  },
  {
   "attachments": {},
   "cell_type": "markdown",
   "metadata": {},
   "source": [
    "## Imports"
   ]
  },
  {
   "cell_type": "code",
   "execution_count": 1,
   "metadata": {},
   "outputs": [
    {
     "name": "stderr",
     "output_type": "stream",
     "text": [
      "/var/folders/yy/fskfscln0pd32y_5qn562y5r0000gp/T/ipykernel_13922/2495473339.py:2: DeprecationWarning: \n",
      "Pyarrow will become a required dependency of pandas in the next major release of pandas (pandas 3.0),\n",
      "(to allow more performant data types, such as the Arrow string type, and better interoperability with other libraries)\n",
      "but was not found to be installed on your system.\n",
      "If this would cause problems for you,\n",
      "please provide us feedback at https://github.com/pandas-dev/pandas/issues/54466\n",
      "        \n",
      "  import pandas as pd\n"
     ]
    }
   ],
   "source": [
    "import matplotlib.pyplot as plt\n",
    "import pandas as pd\n",
    "import numpy\n",
    "\n",
    "import dolfin_estimation as destimation"
   ]
  },
  {
   "cell_type": "markdown",
   "metadata": {},
   "source": [
    "## Generate images\n"
   ]
  },
  {
   "attachments": {},
   "cell_type": "markdown",
   "metadata": {},
   "source": [
    "## Parameters"
   ]
  },
  {
   "cell_type": "markdown",
   "metadata": {},
   "source": [
    "### Varying parameters"
   ]
  },
  {
   "cell_type": "code",
   "execution_count": null,
   "metadata": {},
   "outputs": [],
   "source": [
    "mesh_size=0.1 ### default mesh size\n",
    "noise_lst=[0.0, 0.1, 0.2, 0.3]\n",
    "bias_lst=[0.8, 0.9, 1., 1.1, 1.2] ### studying the impact of an error of -20, -10, 0, 10, and 20 % on a model parameter on the estimation\n",
    "bias_param_lst=['nu', 'b'] ### studying model errors on the Poisson ratio and on the regularization b\n",
    "\n",
    "SNR_lst=[]\n",
    "for noise in reversed(noise_lst):\n",
    "    if noise==0.:\n",
    "        if len(SNR_lst)!=0:\n",
    "            SNR_lst.append(SNR_lst[-1]*100) ### setting the SNR arbitrarily when should be +∞\n",
    "        else: ### only 0 in noise_lst\n",
    "            SNR_lst.append(1000.) ### setting the SNR arbitrarily when should be +∞\n",
    "    else:\n",
    "        SNR_lst.append(1/noise)\n",
    "\n"
   ]
  },
  {
   "attachments": {},
   "cell_type": "markdown",
   "metadata": {},
   "source": [
    "### Mesh"
   ]
  },
  {
   "cell_type": "code",
   "execution_count": null,
   "metadata": {},
   "outputs": [],
   "source": [
    "cube_params = {\"X0\":0.2, \"Y0\":0.2, \"X1\":0.8, \"Y1\":0.8, \"l\":mesh_size}"
   ]
  },
  {
   "attachments": {},
   "cell_type": "markdown",
   "metadata": {},
   "source": [
    "### Material"
   ]
  },
  {
   "cell_type": "code",
   "execution_count": null,
   "metadata": {},
   "outputs": [],
   "source": [
    "nu_ref=0.3 ### defining ground-truth value of Poisson ratio\n",
    "b_ref=0.3 ### defining ground-truth value of the volume regularization term\n",
    "E_ref=1 #kPa"
   ]
  },
  {
   "attachments": {},
   "cell_type": "markdown",
   "metadata": {},
   "source": [
    "### Loading"
   ]
  },
  {
   "cell_type": "code",
   "execution_count": null,
   "metadata": {},
   "outputs": [],
   "source": [
    "load_params_body={\"type\":\"volu\", \"f\":0.3}"
   ]
  },
  {
   "cell_type": "markdown",
   "metadata": {},
   "source": [
    "## Generating plots"
   ]
  },
  {
   "cell_type": "code",
   "execution_count": null,
   "metadata": {},
   "outputs": [],
   "source": [
    "def writing_results_to_pdf(mesh_size=0.1, SNR_lst=[], results_all={}, noise_from_images=True, regul=\"\", bias_lst=[], bias_param=\"\", method=\"EGM\"):\n",
    "\n",
    "    ### plotting parameters\n",
    "    fig, ax = plt.subplots()\n",
    "    plt.rc(\"xtick\", labelsize=16)\n",
    "    plt.rc(\"ytick\", labelsize=16)\n",
    "    plt.rc(\"legend\", fontsize=12)\n",
    "    plt.ylim([-100, 100])\n",
    "    if bias_param==\"nu\":\n",
    "        bias_param=r'$\\nu_{truth}$'\n",
    "        param_math=r'$\\nu_{estim}$'\n",
    "    else:\n",
    "        param_math=bias_param+\"$_{regul}$\"\n",
    "        bias_param=bias_param+\"$_{truth}$\"\n",
    "        \n",
    "\n",
    "    plt.xlabel(\"Signal to Noise Ratio (SNR)\", fontsize=12)\n",
    "    plt.ylabel(\"Estimation error (%)\", fontsize=12)\n",
    "    color_lst=['firebrick', 'orange', 'lawngreen', 'deepskyblue', 'orchid']\n",
    "\n",
    "    for bias in bias_lst:\n",
    "        plt.plot(SNR_lst, results_all[str(bias)][\"E_average\"], color=color_lst[0], label=param_math+\"=\"+str(bias)+bias_param)\n",
    "        plt.xlim([3.3, 20.])\n",
    "        ax.fill_between(SNR_lst, results_all[str(bias)][\"E_+\"], results_all[str(bias)][\"E_-\"], alpha=0.5, color=color_lst[0])\n",
    "        plt.gca().set_xscale('log')\n",
    "        color_lst=color_lst[1:]\n",
    "\n",
    "\n",
    "    ax.set_xticks([])\n",
    "    ax.set_xticks([], minor=True)\n",
    "\n",
    "\n",
    "    plt.legend(loc=\"upper right\", fontsize=13, ncol=2)\n",
    "    plt.grid()\n",
    "    plt.savefig(\"./model_error_for_error_on\"+str(bias_param)+\"with_method=\"+str(method)+str(mesh_size)+\"-noise_from_images=\"+str(noise_from_images)+\"regul=\"+str(regul)+\".pdf\", bbox_inches='tight')\n",
    "    plt.show()"
   ]
  },
  {
   "cell_type": "markdown",
   "metadata": {},
   "source": [
    "## Collecting data"
   ]
  },
  {
   "cell_type": "code",
   "execution_count": null,
   "metadata": {},
   "outputs": [],
   "source": [
    "def run_noise_on_images(method_lst=[], load_type=\"body_force\", load_params={}, mesh_size=0.1, cube_params={}, refine=0, SNR_lst=[], noise_lst=[], bias_param=\"\", bias_lst=[], noise_from_images=True, regul_number=0.3):\n",
    "    results_all={}\n",
    "    for method in method_lst:\n",
    "        for bias in bias_lst:\n",
    "            results_std = {}\n",
    "            results={}\n",
    "            noise_results = []\n",
    "            E_average, E_plus, E_minus = [], [], []\n",
    "            E_all=[]\n",
    "            nu_biased=nu_ref\n",
    "            if bias_param==\"nu\":\n",
    "                nu_biased=bias*nu_ref\n",
    "            elif bias_param==\"b\":\n",
    "                regul_number=bias*b_ref\n",
    "            for noise in noise_lst:\n",
    "                E_results=[]\n",
    "                for i in range(1, 11):\n",
    "                    run = str(i).zfill(2)\n",
    "                    noise_results.append(noise)\n",
    "                    E=destimation.identifying_parameter(method=method, nu=nu_biased, delta=1.2, load_type=load_type, load_params=load_params, mesh_size=mesh_size, cube_params=cube_params, refine=refine, noise_from_images=noise_from_images, noise=noise, regul=0.2, regul_number=regul_number, run=run)\n",
    "                    E_error=(E-E_ref)/(E_ref)*100\n",
    "                    E_all.append(E_error)\n",
    "                    E_results.append(E_error)\n",
    "                E_average.append(numpy.average(E_results))\n",
    "                E_plus.append(numpy.average(E_results)+numpy.std(E_results))\n",
    "                E_minus.append(numpy.average(E_results)-numpy.std(E_results))\n",
    "                results_std[\"noise\"] = noise_lst\n",
    "                results_std[\"E_+\"] = E_plus\n",
    "                results_std[\"E_-\"] = E_minus\n",
    "                results_std[\"E_average\"] = E_average\n",
    "                results[\"noise\"]=noise_results\n",
    "                results[\"E\"]=E_all\n",
    "                results_all[str(bias)]=results_std\n",
    "        writing_results_to_pdf(mesh_size=mesh_size, SNR_lst=SNR_lst, results_all=results_all, noise_from_images=True, method=method, regul=0.2, bias_lst=bias_lst, bias_param=bias_param)\n",
    "    return\n",
    "            \n"
   ]
  },
  {
   "cell_type": "code",
   "execution_count": null,
   "metadata": {},
   "outputs": [],
   "source": [
    "import warnings\n",
    "from ffc.quadrature.deprecation \\\n",
    "    import QuadratureRepresentationDeprecationWarning\n",
    "warnings.simplefilter(\"ignore\", QuadratureRepresentationDeprecationWarning)\n",
    "\n",
    "method_lst=[\"EGM\", \"VFM\", \"VFM_deng\", \"FEMU\"]\n",
    "\n",
    "results_all={}\n",
    "\n",
    "for bias_param in bias_param_lst:\n",
    "    run_noise_on_images(method_lst=method_lst, load_type=\"body_force\", load_params=load_params_body, mesh_size=mesh_size, cube_params=cube_params, refine=False, SNR_lst=SNR_lst, bias_param=bias_param, bias_lst=bias_lst, noise_lst=noise_lst, noise_from_images=True, regul_number=b_ref)"
   ]
  }
 ],
 "metadata": {
  "kernelspec": {
   "display_name": "all",
   "language": "python",
   "name": "python3"
  },
  "language_info": {
   "codemirror_mode": {
    "name": "ipython",
    "version": 3
   },
   "file_extension": ".py",
   "mimetype": "text/x-python",
   "name": "python",
   "nbconvert_exporter": "python",
   "pygments_lexer": "ipython3",
   "version": "3.9.18"
  },
  "orig_nbformat": 4
 },
 "nbformat": 4,
 "nbformat_minor": 2
}
