{
 "cells": [
  {
   "attachments": {},
   "cell_type": "markdown",
   "metadata": {},
   "source": [
    "# Error due model errors"
   ]
  },
  {
   "attachments": {},
   "cell_type": "markdown",
   "metadata": {},
   "source": [
    "## Imports"
   ]
  },
  {
   "cell_type": "code",
   "execution_count": 1,
   "metadata": {},
   "outputs": [
    {
     "name": "stderr",
     "output_type": "stream",
     "text": [
      "/var/folders/yy/fskfscln0pd32y_5qn562y5r0000gp/T/ipykernel_80681/2495473339.py:2: DeprecationWarning: \n",
      "Pyarrow will become a required dependency of pandas in the next major release of pandas (pandas 3.0),\n",
      "(to allow more performant data types, such as the Arrow string type, and better interoperability with other libraries)\n",
      "but was not found to be installed on your system.\n",
      "If this would cause problems for you,\n",
      "please provide us feedback at https://github.com/pandas-dev/pandas/issues/54466\n",
      "        \n",
      "  import pandas as pd\n"
     ]
    }
   ],
   "source": [
    "import matplotlib.pyplot as plt\n",
    "import pandas as pd\n",
    "import numpy\n",
    "\n",
    "import dolfin_estimation as destimation"
   ]
  },
  {
   "cell_type": "markdown",
   "metadata": {},
   "source": [
    "## Generate images\n"
   ]
  },
  {
   "cell_type": "code",
   "execution_count": 2,
   "metadata": {},
   "outputs": [
    {
     "name": "stdout",
     "output_type": "stream",
     "text": [
      "*** generate_meshes ***\n",
      "dim: 2\n",
      "deformation_type: grav\n",
      "mesh_size: 0.1\n",
      "should write generate_images/square-grav-h=0.1-meshcoarse.xml\n",
      "*** generate_meshes ***\n",
      "dim: 2\n",
      "deformation_type: grav\n",
      "mesh_size: 0.05\n",
      "should write generate_images/square-grav-h=0.05-meshcoarse.xml\n",
      "*** generate_meshes ***\n",
      "dim: 2\n",
      "deformation_type: compx\n",
      "mesh_size: 0.1\n",
      "should write generate_images/square-compx-h=0.1-meshcoarse.xml\n",
      "*** generate_meshes ***\n",
      "dim: 2\n",
      "deformation_type: compx\n",
      "mesh_size: 0.05\n",
      "should write generate_images/square-compx-h=0.05-meshcoarse.xml\n"
     ]
    }
   ],
   "source": [
    "from generate_images import generate_images\n",
    "\n",
    "generate_images(True)"
   ]
  },
  {
   "attachments": {},
   "cell_type": "markdown",
   "metadata": {},
   "source": [
    "## Parameters"
   ]
  },
  {
   "cell_type": "markdown",
   "metadata": {},
   "source": [
    "### Varying parameters"
   ]
  },
  {
   "cell_type": "code",
   "execution_count": 2,
   "metadata": {},
   "outputs": [],
   "source": [
    "mesh_size=0.1 ### default mesh size\n",
    "noise_lst=[0.0, 0.1, 0.2, 0.3]\n",
    "bias_lst=[0.8, 0.9, 1., 1.1, 1.2] ### studying the impact of an error of -20, -10, 0, 10, and 20 % on a model parameter on the estimation\n",
    "bias_param_lst=['nu', 'b'] ### studying model errors on the Poisson ratio and on the regularization b\n",
    "\n",
    "SNR_lst=[]\n",
    "for noise in reversed(noise_lst):\n",
    "    if noise==0.:\n",
    "        if len(SNR_lst)!=0:\n",
    "            SNR_lst.append(SNR_lst[-1]*100) ### setting the SNR arbitrarily when should be +∞\n",
    "        else: ### only 0 in noise_lst\n",
    "            SNR_lst.append(1000.) ### setting the SNR arbitrarily when should be +∞\n",
    "    else:\n",
    "        SNR_lst.append(1/noise)\n",
    "\n"
   ]
  },
  {
   "attachments": {},
   "cell_type": "markdown",
   "metadata": {},
   "source": [
    "### Mesh"
   ]
  },
  {
   "cell_type": "code",
   "execution_count": 3,
   "metadata": {},
   "outputs": [],
   "source": [
    "cube_params = {\"X0\":0.2, \"Y0\":0.2, \"X1\":0.8, \"Y1\":0.8, \"l\":mesh_size}"
   ]
  },
  {
   "attachments": {},
   "cell_type": "markdown",
   "metadata": {},
   "source": [
    "### Material"
   ]
  },
  {
   "cell_type": "code",
   "execution_count": 4,
   "metadata": {},
   "outputs": [],
   "source": [
    "nu_ref=0.3 ### defining ground-truth value of Poisson ratio\n",
    "b_ref=0.3 ### defining ground-truth value of the volume regularization term\n",
    "E_ref=1 #kPa"
   ]
  },
  {
   "attachments": {},
   "cell_type": "markdown",
   "metadata": {},
   "source": [
    "### Loading"
   ]
  },
  {
   "cell_type": "code",
   "execution_count": 5,
   "metadata": {},
   "outputs": [],
   "source": [
    "load_params_body={\"type\":\"volu\", \"f\":0.3}"
   ]
  },
  {
   "cell_type": "markdown",
   "metadata": {},
   "source": [
    "## Generating plots"
   ]
  },
  {
   "cell_type": "code",
   "execution_count": 6,
   "metadata": {},
   "outputs": [],
   "source": [
    "def writing_results_to_pdf(mesh_size=0.1, SNR_lst=[], results_all={}, noise_from_images=True, regul=\"\", bias_lst=[], bias_param=\"\", method=\"EGM\"):\n",
    "\n",
    "    ### plotting parameters\n",
    "    fig, ax = plt.subplots()\n",
    "    plt.rc(\"xtick\", labelsize=16)\n",
    "    plt.rc(\"ytick\", labelsize=16)\n",
    "    plt.rc(\"legend\", fontsize=12)\n",
    "    plt.ylim([-100, 100])\n",
    "    if bias_param==\"nu\":\n",
    "        bias_param=r'$\\nu_{truth}$'\n",
    "        param_math=r'$\\nu_{estim}$'\n",
    "    else:\n",
    "        param_math=bias_param+\"$_{regul}$\"\n",
    "        bias_param=bias_param+\"$_{truth}$\"\n",
    "        \n",
    "\n",
    "    plt.xlabel(\"Signal to Noise Ratio (SNR)\", fontsize=12)\n",
    "    plt.ylabel(\"Estimation error (%)\", fontsize=12)\n",
    "    color_lst=['firebrick', 'orange', 'lawngreen', 'deepskyblue', 'orchid']\n",
    "\n",
    "    for bias in bias_lst:\n",
    "        plt.plot(SNR_lst, results_all[str(bias)][\"E_average\"], color=color_lst[0], label=param_math+\"=\"+str(bias)+bias_param)\n",
    "        plt.xlim([3.3, 20.])\n",
    "        ax.fill_between(SNR_lst, results_all[str(bias)][\"E_+\"], results_all[str(bias)][\"E_-\"], alpha=0.5, color=color_lst[0])\n",
    "        plt.gca().set_xscale('log')\n",
    "        color_lst=color_lst[1:]\n",
    "\n",
    "\n",
    "    ax.set_xticks([])\n",
    "    ax.set_xticks([], minor=True)\n",
    "\n",
    "\n",
    "    plt.legend(loc=\"upper right\", fontsize=13, ncol=2)\n",
    "    plt.grid()\n",
    "    plt.savefig(\"./model_error_for_error_on\"+str(bias_param)+\"with_method=\"+str(method)+str(mesh_size)+\"-noise_from_images=\"+str(noise_from_images)+\"regul=\"+str(regul)+\".pdf\", bbox_inches='tight')\n",
    "    plt.show()"
   ]
  },
  {
   "cell_type": "markdown",
   "metadata": {},
   "source": [
    "## Collecting data"
   ]
  },
  {
   "cell_type": "code",
   "execution_count": 7,
   "metadata": {},
   "outputs": [],
   "source": [
    "def run_noise_on_images(method_lst=[], load_type=\"body_force\", load_params={}, mesh_size=0.1, cube_params={}, refine=0, SNR_lst=[], noise_lst=[], bias_param=\"\", bias_lst=[], noise_from_images=True, regul_number=0.3):\n",
    "    results_all={}\n",
    "    for method in method_lst:\n",
    "        for bias in bias_lst:\n",
    "            results_std = {}\n",
    "            results={}\n",
    "            noise_results = []\n",
    "            E_average, E_plus, E_minus = [], [], []\n",
    "            E_all=[]\n",
    "            nu_biased=nu_ref\n",
    "            if bias_param==\"nu\":\n",
    "                nu_biased=bias*nu_ref\n",
    "            elif bias_param==\"b\":\n",
    "                regul_number=bias*b_ref\n",
    "            for noise in noise_lst:\n",
    "                E_results=[]\n",
    "                for i in range(1, 11):\n",
    "                    run = str(i).zfill(2)\n",
    "                    noise_results.append(noise)\n",
    "                    E=destimation.identifying_parameter(method=method, nu=nu_biased, delta=1.2, load_type=load_type, load_params=load_params, mesh_size=mesh_size, cube_params=cube_params, refine=refine, noise_from_images=noise_from_images, noise=noise, regul=0.2, regul_number=regul_number, run=run)\n",
    "                    E_error=(E-E_ref)/(E_ref)*100\n",
    "                    E_all.append(E_error)\n",
    "                    E_results.append(E_error)\n",
    "                E_average.append(numpy.average(E_results))\n",
    "                E_plus.append(numpy.average(E_results)+numpy.std(E_results))\n",
    "                E_minus.append(numpy.average(E_results)-numpy.std(E_results))\n",
    "                results_std[\"noise\"] = noise_lst\n",
    "                results_std[\"E_+\"] = E_plus\n",
    "                results_std[\"E_-\"] = E_minus\n",
    "                results_std[\"E_average\"] = E_average\n",
    "                results[\"noise\"]=noise_results\n",
    "                results[\"E\"]=E_all\n",
    "                results_all[str(bias)]=results_std\n",
    "        writing_results_to_pdf(mesh_size=mesh_size, SNR_lst=SNR_lst, results_all=results_all, noise_from_images=True, method=method, regul=0.2, bias_lst=bias_lst, bias_param=bias_param)\n",
    "    return\n",
    "            \n"
   ]
  },
  {
   "cell_type": "code",
   "execution_count": 8,
   "metadata": {},
   "outputs": [
    {
     "ename": "ReadError",
     "evalue": "File run_warp_grav/square-grav-tagging-noise=0.2-run=01-h=0.1-discrete-equilibrated-tractions-normal-tangential-regul=0.2-b=0.3-refine=0_020.vtu not found.",
     "output_type": "error",
     "traceback": [
      "\u001b[0;31m---------------------------------------------------------------------------\u001b[0m",
      "\u001b[0;31mReadError\u001b[0m                                 Traceback (most recent call last)",
      "Cell \u001b[0;32mIn[8], line 11\u001b[0m\n\u001b[1;32m      8\u001b[0m results_all\u001b[38;5;241m=\u001b[39m{}\n\u001b[1;32m     10\u001b[0m \u001b[38;5;28;01mfor\u001b[39;00m bias_param \u001b[38;5;129;01min\u001b[39;00m bias_param_lst:\n\u001b[0;32m---> 11\u001b[0m     \u001b[43mrun_noise_on_images\u001b[49m\u001b[43m(\u001b[49m\u001b[43mmethod_lst\u001b[49m\u001b[38;5;241;43m=\u001b[39;49m\u001b[43mmethod_lst\u001b[49m\u001b[43m,\u001b[49m\u001b[43m \u001b[49m\u001b[43mload_type\u001b[49m\u001b[38;5;241;43m=\u001b[39;49m\u001b[38;5;124;43m\"\u001b[39;49m\u001b[38;5;124;43mbody_force\u001b[39;49m\u001b[38;5;124;43m\"\u001b[39;49m\u001b[43m,\u001b[49m\u001b[43m \u001b[49m\u001b[43mload_params\u001b[49m\u001b[38;5;241;43m=\u001b[39;49m\u001b[43mload_params_body\u001b[49m\u001b[43m,\u001b[49m\u001b[43m \u001b[49m\u001b[43mmesh_size\u001b[49m\u001b[38;5;241;43m=\u001b[39;49m\u001b[43mmesh_size\u001b[49m\u001b[43m,\u001b[49m\u001b[43m \u001b[49m\u001b[43mcube_params\u001b[49m\u001b[38;5;241;43m=\u001b[39;49m\u001b[43mcube_params\u001b[49m\u001b[43m,\u001b[49m\u001b[43m \u001b[49m\u001b[43mrefine\u001b[49m\u001b[38;5;241;43m=\u001b[39;49m\u001b[38;5;28;43;01mFalse\u001b[39;49;00m\u001b[43m,\u001b[49m\u001b[43m \u001b[49m\u001b[43mSNR_lst\u001b[49m\u001b[38;5;241;43m=\u001b[39;49m\u001b[43mSNR_lst\u001b[49m\u001b[43m,\u001b[49m\u001b[43m \u001b[49m\u001b[43mbias_param\u001b[49m\u001b[38;5;241;43m=\u001b[39;49m\u001b[43mbias_param\u001b[49m\u001b[43m,\u001b[49m\u001b[43m \u001b[49m\u001b[43mbias_lst\u001b[49m\u001b[38;5;241;43m=\u001b[39;49m\u001b[43mbias_lst\u001b[49m\u001b[43m,\u001b[49m\u001b[43m \u001b[49m\u001b[43mnoise_lst\u001b[49m\u001b[38;5;241;43m=\u001b[39;49m\u001b[43mnoise_lst\u001b[49m\u001b[43m,\u001b[49m\u001b[43m \u001b[49m\u001b[43mnoise_from_images\u001b[49m\u001b[38;5;241;43m=\u001b[39;49m\u001b[38;5;28;43;01mTrue\u001b[39;49;00m\u001b[43m,\u001b[49m\u001b[43m \u001b[49m\u001b[43mregul_number\u001b[49m\u001b[38;5;241;43m=\u001b[39;49m\u001b[43mb_ref\u001b[49m\u001b[43m)\u001b[49m\n",
      "Cell \u001b[0;32mIn[7], line 20\u001b[0m, in \u001b[0;36mrun_noise_on_images\u001b[0;34m(method_lst, load_type, load_params, mesh_size, cube_params, refine, SNR_lst, noise_lst, bias_param, bias_lst, noise_from_images, regul_number)\u001b[0m\n\u001b[1;32m     18\u001b[0m run \u001b[38;5;241m=\u001b[39m \u001b[38;5;28mstr\u001b[39m(i)\u001b[38;5;241m.\u001b[39mzfill(\u001b[38;5;241m2\u001b[39m)\n\u001b[1;32m     19\u001b[0m noise_results\u001b[38;5;241m.\u001b[39mappend(noise)\n\u001b[0;32m---> 20\u001b[0m E\u001b[38;5;241m=\u001b[39m\u001b[43mdestimation\u001b[49m\u001b[38;5;241;43m.\u001b[39;49m\u001b[43midentifying_parameter\u001b[49m\u001b[43m(\u001b[49m\u001b[43mmethod\u001b[49m\u001b[38;5;241;43m=\u001b[39;49m\u001b[43mmethod\u001b[49m\u001b[43m,\u001b[49m\u001b[43m \u001b[49m\u001b[43mnu\u001b[49m\u001b[38;5;241;43m=\u001b[39;49m\u001b[43mnu_biased\u001b[49m\u001b[43m,\u001b[49m\u001b[43m \u001b[49m\u001b[43mdelta\u001b[49m\u001b[38;5;241;43m=\u001b[39;49m\u001b[38;5;241;43m1.2\u001b[39;49m\u001b[43m,\u001b[49m\u001b[43m \u001b[49m\u001b[43mload_type\u001b[49m\u001b[38;5;241;43m=\u001b[39;49m\u001b[43mload_type\u001b[49m\u001b[43m,\u001b[49m\u001b[43m \u001b[49m\u001b[43mload_params\u001b[49m\u001b[38;5;241;43m=\u001b[39;49m\u001b[43mload_params\u001b[49m\u001b[43m,\u001b[49m\u001b[43m \u001b[49m\u001b[43mmesh_size\u001b[49m\u001b[38;5;241;43m=\u001b[39;49m\u001b[43mmesh_size\u001b[49m\u001b[43m,\u001b[49m\u001b[43m \u001b[49m\u001b[43mcube_params\u001b[49m\u001b[38;5;241;43m=\u001b[39;49m\u001b[43mcube_params\u001b[49m\u001b[43m,\u001b[49m\u001b[43m \u001b[49m\u001b[43mrefine\u001b[49m\u001b[38;5;241;43m=\u001b[39;49m\u001b[43mrefine\u001b[49m\u001b[43m,\u001b[49m\u001b[43m \u001b[49m\u001b[43mnoise_from_images\u001b[49m\u001b[38;5;241;43m=\u001b[39;49m\u001b[43mnoise_from_images\u001b[49m\u001b[43m,\u001b[49m\u001b[43m \u001b[49m\u001b[43mnoise\u001b[49m\u001b[38;5;241;43m=\u001b[39;49m\u001b[43mnoise\u001b[49m\u001b[43m,\u001b[49m\u001b[43m \u001b[49m\u001b[43mregul\u001b[49m\u001b[38;5;241;43m=\u001b[39;49m\u001b[38;5;241;43m0.2\u001b[39;49m\u001b[43m,\u001b[49m\u001b[43m \u001b[49m\u001b[43mregul_number\u001b[49m\u001b[38;5;241;43m=\u001b[39;49m\u001b[43mregul_number\u001b[49m\u001b[43m,\u001b[49m\u001b[43m \u001b[49m\u001b[43mrun\u001b[49m\u001b[38;5;241;43m=\u001b[39;49m\u001b[43mrun\u001b[49m\u001b[43m)\u001b[49m\n\u001b[1;32m     21\u001b[0m E_error\u001b[38;5;241m=\u001b[39m(E\u001b[38;5;241m-\u001b[39mE_ref)\u001b[38;5;241m/\u001b[39m(E_ref)\u001b[38;5;241m*\u001b[39m\u001b[38;5;241m100\u001b[39m\n\u001b[1;32m     22\u001b[0m E_all\u001b[38;5;241m.\u001b[39mappend(E_error)\n",
      "File \u001b[0;32m~/dolfin_estimation/starting_estimation.py:8\u001b[0m, in \u001b[0;36midentifying_parameter\u001b[0;34m(method, delta, load_type, load_params, refine, noise_from_images, noise, mesh_size, regul, regul_number, run, cube_params, nu, u_params, res_basename)\u001b[0m\n\u001b[1;32m      6\u001b[0m \u001b[38;5;28;01mdef\u001b[39;00m \u001b[38;5;21midentifying_parameter\u001b[39m(method\u001b[38;5;241m=\u001b[39m\u001b[38;5;124m\"\u001b[39m\u001b[38;5;124m\"\u001b[39m, delta\u001b[38;5;241m=\u001b[39m\u001b[38;5;241m1.2\u001b[39m, load_type\u001b[38;5;241m=\u001b[39m\u001b[38;5;124m\"\u001b[39m\u001b[38;5;124mbody_force\u001b[39m\u001b[38;5;124m\"\u001b[39m, load_params\u001b[38;5;241m=\u001b[39m{}, refine\u001b[38;5;241m=\u001b[39m\u001b[38;5;28;01mFalse\u001b[39;00m, noise_from_images\u001b[38;5;241m=\u001b[39m\u001b[38;5;28;01mTrue\u001b[39;00m, noise\u001b[38;5;241m=\u001b[39m\u001b[38;5;241m0\u001b[39m, mesh_size\u001b[38;5;241m=\u001b[39m\u001b[38;5;241m0.1\u001b[39m, regul\u001b[38;5;241m=\u001b[39m\u001b[38;5;241m0.0\u001b[39m, regul_number\u001b[38;5;241m=\u001b[39m\u001b[38;5;241m0.3\u001b[39m, run\u001b[38;5;241m=\u001b[39m\u001b[38;5;241m1\u001b[39m, cube_params\u001b[38;5;241m=\u001b[39m{}, nu\u001b[38;5;241m=\u001b[39m\u001b[38;5;241m0.3\u001b[39m, u_params\u001b[38;5;241m=\u001b[39m\u001b[38;5;28;01mNone\u001b[39;00m, res_basename\u001b[38;5;241m=\u001b[39m\u001b[38;5;124m\"\u001b[39m\u001b[38;5;124m./\u001b[39m\u001b[38;5;124m\"\u001b[39m):\n\u001b[1;32m      7\u001b[0m     \u001b[38;5;28;01mif\u001b[39;00m method\u001b[38;5;241m==\u001b[39m\u001b[38;5;124m\"\u001b[39m\u001b[38;5;124mEGM\u001b[39m\u001b[38;5;124m\"\u001b[39m:\n\u001b[0;32m----> 8\u001b[0m         E\u001b[38;5;241m=\u001b[39m\u001b[43mdestimation\u001b[49m\u001b[38;5;241;43m.\u001b[39;49m\u001b[43mEGM\u001b[49m\u001b[43m(\u001b[49m\u001b[43mrefine\u001b[49m\u001b[38;5;241;43m=\u001b[39;49m\u001b[43mrefine\u001b[49m\u001b[43m,\u001b[49m\u001b[43m \u001b[49m\u001b[43mnoise\u001b[49m\u001b[38;5;241;43m=\u001b[39;49m\u001b[43mnoise\u001b[49m\u001b[43m,\u001b[49m\u001b[43m \u001b[49m\u001b[43mcube_params\u001b[49m\u001b[38;5;241;43m=\u001b[39;49m\u001b[43mcube_params\u001b[49m\u001b[43m,\u001b[49m\u001b[43m \u001b[49m\u001b[43mmesh_size\u001b[49m\u001b[38;5;241;43m=\u001b[39;49m\u001b[43mmesh_size\u001b[49m\u001b[43m,\u001b[49m\u001b[43m \u001b[49m\u001b[43mregul\u001b[49m\u001b[38;5;241;43m=\u001b[39;49m\u001b[43mregul\u001b[49m\u001b[43m,\u001b[49m\u001b[43m \u001b[49m\u001b[43mregul_number\u001b[49m\u001b[38;5;241;43m=\u001b[39;49m\u001b[43mregul_number\u001b[49m\u001b[43m,\u001b[49m\u001b[43m \u001b[49m\u001b[43mrun\u001b[49m\u001b[38;5;241;43m=\u001b[39;49m\u001b[43mrun\u001b[49m\u001b[43m,\u001b[49m\u001b[43m \u001b[49m\u001b[43mnoise_from_images\u001b[49m\u001b[38;5;241;43m=\u001b[39;49m\u001b[43mnoise_from_images\u001b[49m\u001b[43m,\u001b[49m\u001b[43m \u001b[49m\u001b[43mload_type\u001b[49m\u001b[38;5;241;43m=\u001b[39;49m\u001b[43mload_type\u001b[49m\u001b[43m,\u001b[49m\u001b[43m \u001b[49m\u001b[43mload_params\u001b[49m\u001b[38;5;241;43m=\u001b[39;49m\u001b[43mload_params\u001b[49m\u001b[43m,\u001b[49m\u001b[43m \u001b[49m\u001b[43mnu\u001b[49m\u001b[38;5;241;43m=\u001b[39;49m\u001b[43mnu\u001b[49m\u001b[43m)\u001b[49m\n\u001b[1;32m      9\u001b[0m     \u001b[38;5;28;01melif\u001b[39;00m method\u001b[38;5;241m==\u001b[39m\u001b[38;5;124m\"\u001b[39m\u001b[38;5;124mFEMU\u001b[39m\u001b[38;5;124m\"\u001b[39m:\n\u001b[1;32m     10\u001b[0m         E\u001b[38;5;241m=\u001b[39mdestimation\u001b[38;5;241m.\u001b[39mFEMU(noise\u001b[38;5;241m=\u001b[39mnoise, refine\u001b[38;5;241m=\u001b[39mrefine, mesh_size\u001b[38;5;241m=\u001b[39mmesh_size, regul\u001b[38;5;241m=\u001b[39mregul, regul_number\u001b[38;5;241m=\u001b[39mregul_number, run\u001b[38;5;241m=\u001b[39mrun, load_type\u001b[38;5;241m=\u001b[39mload_type, cube_params\u001b[38;5;241m=\u001b[39mcube_params, load_params\u001b[38;5;241m=\u001b[39mload_params, noise_from_images\u001b[38;5;241m=\u001b[39mnoise_from_images, nu\u001b[38;5;241m=\u001b[39mnu)\n",
      "File \u001b[0;32m~/dolfin_estimation/equilibrium_gap.py:13\u001b[0m, in \u001b[0;36mEGM\u001b[0;34m(nu, mesh_size, cube_params, refine, load_params, load_type, noise_from_images, noise, regul, regul_number, run)\u001b[0m\n\u001b[1;32m     11\u001b[0m \u001b[38;5;28;01mdef\u001b[39;00m \u001b[38;5;21mEGM\u001b[39m(nu\u001b[38;5;241m=\u001b[39m\u001b[38;5;241m0.3\u001b[39m, mesh_size\u001b[38;5;241m=\u001b[39m\u001b[38;5;241m0.1\u001b[39m, cube_params\u001b[38;5;241m=\u001b[39m{}, refine\u001b[38;5;241m=\u001b[39m\u001b[38;5;28;01mFalse\u001b[39;00m, load_params\u001b[38;5;241m=\u001b[39m{}, load_type\u001b[38;5;241m=\u001b[39m\u001b[38;5;124m\"\u001b[39m\u001b[38;5;124mbody_force\u001b[39m\u001b[38;5;124m\"\u001b[39m, noise_from_images\u001b[38;5;241m=\u001b[39m\u001b[38;5;28;01mFalse\u001b[39;00m, noise\u001b[38;5;241m=\u001b[39m\u001b[38;5;241m0\u001b[39m, regul\u001b[38;5;241m=\u001b[39m\u001b[38;5;241m0.0\u001b[39m, regul_number\u001b[38;5;241m=\u001b[39m\u001b[38;5;241m0.0\u001b[39m, run\u001b[38;5;241m=\u001b[39m\u001b[38;5;241m1\u001b[39m):\n\u001b[1;32m     12\u001b[0m     \u001b[38;5;28;01mif\u001b[39;00m noise_from_images:\n\u001b[0;32m---> 13\u001b[0m         U, mesh, boundaries_mf\u001b[38;5;241m=\u001b[39m\u001b[43mdestimation\u001b[49m\u001b[38;5;241;43m.\u001b[39;49m\u001b[43mget_disp_field_and_mesh_from_images\u001b[49m\u001b[43m(\u001b[49m\u001b[43mrefine\u001b[49m\u001b[38;5;241;43m=\u001b[39;49m\u001b[43mrefine\u001b[49m\u001b[43m,\u001b[49m\u001b[43m \u001b[49m\u001b[43mnoise\u001b[49m\u001b[38;5;241;43m=\u001b[39;49m\u001b[43mnoise\u001b[49m\u001b[43m,\u001b[49m\u001b[43m \u001b[49m\u001b[43mmesh_size\u001b[49m\u001b[38;5;241;43m=\u001b[39;49m\u001b[43mmesh_size\u001b[49m\u001b[43m,\u001b[49m\u001b[43m \u001b[49m\u001b[43mregul\u001b[49m\u001b[38;5;241;43m=\u001b[39;49m\u001b[43mregul\u001b[49m\u001b[43m,\u001b[49m\u001b[43m \u001b[49m\u001b[43mrun\u001b[49m\u001b[38;5;241;43m=\u001b[39;49m\u001b[43mrun\u001b[49m\u001b[43m,\u001b[49m\u001b[43m \u001b[49m\u001b[43mload_type\u001b[49m\u001b[38;5;241;43m=\u001b[39;49m\u001b[43mload_type\u001b[49m\u001b[43m,\u001b[49m\u001b[43m \u001b[49m\u001b[43mregul_number\u001b[49m\u001b[38;5;241;43m=\u001b[39;49m\u001b[43mregul_number\u001b[49m\u001b[43m,\u001b[49m\u001b[43m \u001b[49m\u001b[43mcube_params\u001b[49m\u001b[38;5;241;43m=\u001b[39;49m\u001b[43mcube_params\u001b[49m\u001b[43m)\u001b[49m\n\u001b[1;32m     14\u001b[0m     \u001b[38;5;28;01melse\u001b[39;00m:\n\u001b[1;32m     15\u001b[0m         U, mesh, boundaries_mf\u001b[38;5;241m=\u001b[39mdestimation\u001b[38;5;241m.\u001b[39mcompute_displacement_field(refine\u001b[38;5;241m=\u001b[39mrefine, noise\u001b[38;5;241m=\u001b[39mnoise, mesh_size\u001b[38;5;241m=\u001b[39mmesh_size, load_params\u001b[38;5;241m=\u001b[39mload_params, cube_params\u001b[38;5;241m=\u001b[39mcube_params)\n",
      "File \u001b[0;32m~/dolfin_estimation/get_measured_disp.py:51\u001b[0m, in \u001b[0;36mget_disp_field_and_mesh_from_images\u001b[0;34m(refine, noise, mesh_size, regul, run, load_type, regul_number, cube_params)\u001b[0m\n\u001b[1;32m     49\u001b[0m     u_meshio \u001b[38;5;241m=\u001b[39m mesh_meshio\u001b[38;5;241m.\u001b[39mpoint_data[\u001b[38;5;124m\"\u001b[39m\u001b[38;5;124mdisplacement\u001b[39m\u001b[38;5;124m\"\u001b[39m]\n\u001b[1;32m     50\u001b[0m \u001b[38;5;28;01melse\u001b[39;00m:\n\u001b[0;32m---> 51\u001b[0m     mesh_meshio \u001b[38;5;241m=\u001b[39m \u001b[43mmeshio\u001b[49m\u001b[38;5;241;43m.\u001b[39;49m\u001b[43mread\u001b[49m\u001b[43m(\u001b[49m\u001b[38;5;124;43m\"\u001b[39;49m\u001b[38;5;124;43m./\u001b[39;49m\u001b[38;5;124;43m\"\u001b[39;49m\u001b[38;5;241;43m+\u001b[39;49m\u001b[43mfolder_name\u001b[49m\u001b[38;5;241;43m+\u001b[39;49m\u001b[38;5;124;43m\"\u001b[39;49m\u001b[38;5;124;43m/square-\u001b[39;49m\u001b[38;5;124;43m\"\u001b[39;49m\u001b[38;5;241;43m+\u001b[39;49m\u001b[38;5;28;43mstr\u001b[39;49m\u001b[43m(\u001b[49m\u001b[43mtest_name\u001b[49m\u001b[43m)\u001b[49m\u001b[38;5;241;43m+\u001b[39;49m\u001b[38;5;124;43m\"\u001b[39;49m\u001b[38;5;124;43m-tagging-noise=\u001b[39;49m\u001b[38;5;124;43m\"\u001b[39;49m\u001b[38;5;241;43m+\u001b[39;49m\u001b[38;5;28;43mstr\u001b[39;49m\u001b[43m(\u001b[49m\u001b[43mnoise\u001b[49m\u001b[43m)\u001b[49m\u001b[38;5;241;43m+\u001b[39;49m\u001b[38;5;124;43m\"\u001b[39;49m\u001b[38;5;124;43m-run=\u001b[39;49m\u001b[38;5;124;43m\"\u001b[39;49m\u001b[38;5;241;43m+\u001b[39;49m\u001b[38;5;28;43mstr\u001b[39;49m\u001b[43m(\u001b[49m\u001b[43mrun\u001b[49m\u001b[43m)\u001b[49m\u001b[38;5;241;43m+\u001b[39;49m\u001b[38;5;124;43m\"\u001b[39;49m\u001b[38;5;124;43m-h=\u001b[39;49m\u001b[38;5;124;43m\"\u001b[39;49m\u001b[38;5;241;43m+\u001b[39;49m\u001b[38;5;28;43mstr\u001b[39;49m\u001b[43m(\u001b[49m\u001b[43mmesh_size\u001b[49m\u001b[43m)\u001b[49m\u001b[38;5;241;43m+\u001b[39;49m\u001b[38;5;28;43mstr\u001b[39;49m\u001b[43m(\u001b[49m\u001b[43mname_regul\u001b[49m\u001b[43m)\u001b[49m\u001b[38;5;241;43m+\u001b[39;49m\u001b[38;5;28;43mstr\u001b[39;49m\u001b[43m(\u001b[49m\u001b[43mregul\u001b[49m\u001b[43m)\u001b[49m\u001b[38;5;241;43m+\u001b[39;49m\u001b[43mregul_number_str\u001b[49m\u001b[38;5;241;43m+\u001b[39;49m\u001b[38;5;124;43m\"\u001b[39;49m\u001b[38;5;124;43m-refine=\u001b[39;49m\u001b[38;5;124;43m\"\u001b[39;49m\u001b[38;5;241;43m+\u001b[39;49m\u001b[43mrefine_number\u001b[49m\u001b[38;5;241;43m+\u001b[39;49m\u001b[38;5;124;43m\"\u001b[39;49m\u001b[38;5;124;43m_020.vtu\u001b[39;49m\u001b[38;5;124;43m\"\u001b[39;49m\u001b[43m)\u001b[49m\n\u001b[1;32m     52\u001b[0m     u_meshio \u001b[38;5;241m=\u001b[39m mesh_meshio\u001b[38;5;241m.\u001b[39mpoint_data[\u001b[38;5;124m\"\u001b[39m\u001b[38;5;124mdisplacement\u001b[39m\u001b[38;5;124m\"\u001b[39m]\n\u001b[1;32m     53\u001b[0m u_meshio \u001b[38;5;241m=\u001b[39m u_meshio\u001b[38;5;241m.\u001b[39mtolist()\n",
      "File \u001b[0;32m~/miniconda3/envs/fenics/lib/python3.9/site-packages/meshio/_helpers.py:71\u001b[0m, in \u001b[0;36mread\u001b[0;34m(filename, file_format)\u001b[0m\n\u001b[1;32m     68\u001b[0m \u001b[38;5;28;01mif\u001b[39;00m is_buffer(filename, \u001b[38;5;124m\"\u001b[39m\u001b[38;5;124mr\u001b[39m\u001b[38;5;124m\"\u001b[39m):\n\u001b[1;32m     69\u001b[0m     \u001b[38;5;28;01mreturn\u001b[39;00m _read_buffer(filename, file_format)\n\u001b[0;32m---> 71\u001b[0m \u001b[38;5;28;01mreturn\u001b[39;00m \u001b[43m_read_file\u001b[49m\u001b[43m(\u001b[49m\u001b[43mPath\u001b[49m\u001b[43m(\u001b[49m\u001b[43mfilename\u001b[49m\u001b[43m)\u001b[49m\u001b[43m,\u001b[49m\u001b[43m \u001b[49m\u001b[43mfile_format\u001b[49m\u001b[43m)\u001b[49m\n",
      "File \u001b[0;32m~/miniconda3/envs/fenics/lib/python3.9/site-packages/meshio/_helpers.py:90\u001b[0m, in \u001b[0;36m_read_file\u001b[0;34m(path, file_format)\u001b[0m\n\u001b[1;32m     88\u001b[0m \u001b[38;5;28;01mdef\u001b[39;00m \u001b[38;5;21m_read_file\u001b[39m(path: Path, file_format: \u001b[38;5;28mstr\u001b[39m \u001b[38;5;241m|\u001b[39m \u001b[38;5;28;01mNone\u001b[39;00m):\n\u001b[1;32m     89\u001b[0m     \u001b[38;5;28;01mif\u001b[39;00m \u001b[38;5;129;01mnot\u001b[39;00m path\u001b[38;5;241m.\u001b[39mexists():\n\u001b[0;32m---> 90\u001b[0m         \u001b[38;5;28;01mraise\u001b[39;00m ReadError(\u001b[38;5;124mf\u001b[39m\u001b[38;5;124m\"\u001b[39m\u001b[38;5;124mFile \u001b[39m\u001b[38;5;132;01m{\u001b[39;00mpath\u001b[38;5;132;01m}\u001b[39;00m\u001b[38;5;124m not found.\u001b[39m\u001b[38;5;124m\"\u001b[39m)\n\u001b[1;32m     92\u001b[0m     \u001b[38;5;28;01mif\u001b[39;00m file_format:\n\u001b[1;32m     93\u001b[0m         possible_file_formats \u001b[38;5;241m=\u001b[39m [file_format]\n",
      "\u001b[0;31mReadError\u001b[0m: File run_warp_grav/square-grav-tagging-noise=0.2-run=01-h=0.1-discrete-equilibrated-tractions-normal-tangential-regul=0.2-b=0.3-refine=0_020.vtu not found."
     ]
    }
   ],
   "source": [
    "import warnings\n",
    "from ffc.quadrature.deprecation \\\n",
    "    import QuadratureRepresentationDeprecationWarning\n",
    "warnings.simplefilter(\"ignore\", QuadratureRepresentationDeprecationWarning)\n",
    "\n",
    "method_lst=[\"EGM\", \"VFM\", \"VFM_deng\", \"FEMU\"]\n",
    "\n",
    "results_all={}\n",
    "\n",
    "for bias_param in bias_param_lst:\n",
    "    run_noise_on_images(method_lst=method_lst, load_type=\"body_force\", load_params=load_params_body, mesh_size=mesh_size, cube_params=cube_params, refine=False, SNR_lst=SNR_lst, bias_param=bias_param, bias_lst=bias_lst, noise_lst=noise_lst, noise_from_images=True, regul_number=b_ref)"
   ]
  }
 ],
 "metadata": {
  "kernelspec": {
   "display_name": "all",
   "language": "python",
   "name": "python3"
  },
  "language_info": {
   "codemirror_mode": {
    "name": "ipython",
    "version": 3
   },
   "file_extension": ".py",
   "mimetype": "text/x-python",
   "name": "python",
   "nbconvert_exporter": "python",
   "pygments_lexer": "ipython3",
   "version": "3.9.18"
  },
  "orig_nbformat": 4
 },
 "nbformat": 4,
 "nbformat_minor": 2
}
