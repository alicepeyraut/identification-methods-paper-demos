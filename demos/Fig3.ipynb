{
 "cells": [
  {
   "attachments": {},
   "cell_type": "markdown",
   "metadata": {},
   "source": [
    "# Figure 3"
   ]
  },
  {
   "attachments": {},
   "cell_type": "markdown",
   "metadata": {},
   "source": [
    "## Imports"
   ]
  },
  {
   "cell_type": "code",
   "execution_count": null,
   "metadata": {},
   "outputs": [],
   "source": [
    "import dolfin\n",
    "import matplotlib.pyplot as plt\n",
    "import pandas\n",
    "\n",
    "import dolfin_mech as dmech"
   ]
  },
  {
   "attachments": {},
   "cell_type": "markdown",
   "metadata": {},
   "source": [
    "## Parameters"
   ]
  },
  {
   "attachments": {},
   "cell_type": "markdown",
   "metadata": {},
   "source": [
    "### Mesh"
   ]
  },
  {
   "cell_type": "code",
   "execution_count": null,
   "metadata": {},
   "outputs": [],
   "source": [
    "cube_params = {\"path_and_mesh_name\":\"Data/generic_mesh.xdmf\"}"
   ]
  },
  {
   "attachments": {},
   "cell_type": "markdown",
   "metadata": {},
   "source": [
    "### Material"
   ]
  },
  {
   "cell_type": "code",
   "execution_count": null,
   "metadata": {},
   "outputs": [],
   "source": [
    "alpha_lst=[0.016, 0.16, 1.6] # kPa\n",
    "params = {\n",
    "    \"alpha\":0.16,     # kPa\n",
    "    \"gamma\":0.5,      # [-]\n",
    "    \"c1\":0.6,         # kPa\n",
    "    \"c2\":0.,          # kPa\n",
    "    \"kappa\":1e2,      # kPa\n",
    "    \"eta\":1e-5,       # kPa\n",
    "    \"rho_solid\":1e-6} # g/mm3\n",
    "mat_params = {\"scaling\":\"linear\", \"parameters\":params}"
   ]
  },
  {
   "attachments": {},
   "cell_type": "markdown",
   "metadata": {},
   "source": [
    "### Loading"
   ]
  },
  {
   "cell_type": "code",
   "execution_count": null,
   "metadata": {},
   "outputs": [],
   "source": [
    "pe = -0.5    # kPa\n",
    "pi = -2.0    # kPa\n",
    "g  = +9.81e3 # mm/s2"
   ]
  },
  {
   "attachments": {},
   "cell_type": "markdown",
   "metadata": {},
   "source": [
    "## Computing pressure-volume responses"
   ]
  },
  {
   "cell_type": "code",
   "execution_count": null,
   "metadata": {},
   "outputs": [],
   "source": [
    "results = {}\n",
    "gravity_lst = [0,1]\n",
    "for gravity_ in gravity_lst:\n",
    " for alpha_ in alpha_lst:\n",
    "\n",
    "    mat_params[\"parameters\"][\"alpha\"] = alpha_\n",
    "    \n",
    "    ### computing the unloaded configuration\n",
    "    U_exhal_to_unloaded, phis_unloaded, dV_exhal = dmech.run_RivlinCube_PoroHyperelasticity(\n",
    "        inverse=1,\n",
    "        cube_params=cube_params,\n",
    "        mat_params=mat_params,\n",
    "        inertia_params={\"applied\":True, \"rho_val\":1e-8},\n",
    "        step_params={\"dt_min\":1e-4, \"dt_ini\":0.125},\n",
    "        load_params={\"type\":\"p_boundary_condition0\", \"f\":gravity_*g, \"P0\":float(pe)},\n",
    "        res_basename=\"Fig3-inverse\",\n",
    "        get_results=1,\n",
    "        verbose=1)\n",
    "    \n",
    "    V_exhal = dolfin.assemble(dolfin.Constant(1.)*dV_exhal)\n",
    "\n",
    "    ### computing the end-inhalation configuration\n",
    "    U_unloaded_to_inhal, phis_inhal, dV_unloaded = dmech.run_RivlinCube_PoroHyperelasticity(\n",
    "        cube_params=cube_params,\n",
    "        move_params={\"move\":True, \"U\":U_exhal_to_unloaded},\n",
    "        porosity_params={\"type\":\"function_xml_from_array\", \"val\":phis_unloaded},\n",
    "        mat_params=mat_params,\n",
    "        inertia_params={\"applied\":True, \"rho_val\":1e-8},\n",
    "        step_params={\"n_steps\":2, \"Deltat\":1., \"dt_ini\":0.05, \"dt_max\":0.05, \"dt_min\":1e-4}, \n",
    "        load_params={\"type\":\"p_boundary_condition\", \"f_lst\":[gravity_*g, gravity_*g], \"P0_lst\":[float(0.), float(pi)]},\n",
    "        res_basename=\"Fig3-direct\",\n",
    "        get_results=1,\n",
    "        verbose=1)\n",
    "\n",
    "    v_lst = pandas.read_csv(\n",
    "        \"Fig3-direct-qois.dat\",\n",
    "        delim_whitespace=True,\n",
    "        comment=\"#\",\n",
    "        names=open(\"Fig3-direct-qois.dat\").readline()[1:].split()).to_dict('list')[\"v\"]\n",
    "    t_lst = pandas.read_csv(\n",
    "        \"Fig3-direct-qois.dat\",\n",
    "        delim_whitespace=True,\n",
    "        comment=\"#\",\n",
    "        names=open(\"Fig3-direct-qois.dat\").readline()[1:].split()).to_dict('list')[\"t\"]\n",
    "\n",
    "    results[\"pi_alpha=\"+str(alpha_)+\"g=\"+str(gravity_)] = [-1*(2*t-1)*float(pi) for t in t_lst if t>=0.5]\n",
    "    results[\"J_alpha=\"+str(alpha_)+\"g=\"+str(gravity_)] = [v_lst[c]/V_exhal for c in range(len(t_lst)) if t_lst[c]>=0.5]"
   ]
  },
  {
   "attachments": {},
   "cell_type": "markdown",
   "metadata": {},
   "source": [
    "## Generating plots"
   ]
  },
  {
   "cell_type": "code",
   "execution_count": null,
   "metadata": {},
   "outputs": [],
   "source": [
    "fig, ax = plt.subplots()\n",
    "plt.rc(\"xtick\", labelsize=14)\n",
    "plt.rc(\"ytick\", labelsize=14)\n",
    "plt.rc(\"legend\", fontsize=12)\n",
    "plt.xlabel(\"End-inhalation pleural presure\", fontsize=10)\n",
    "plt.ylabel(\"Jacobian from end-exhalation to end-inhalation\", fontsize=10)\n",
    "color_lst = [\"blue\", \"green\", \"orange\"]\n",
    "for alpha_ in alpha_lst:\n",
    "    for gravity_ in gravity_lst:\n",
    "        if gravity_:\n",
    "            linestyle = \"-\"\n",
    "            g = \"w/ gravity\"\n",
    "        else:\n",
    "            linestyle = \"--\"\n",
    "            g = \"w/o gravity\"\n",
    "        plt.plot(results[\"pi_alpha=\"+str(alpha_)+\"g=\"+str(gravity_)], results[\"J_alpha=\"+str(alpha_)+\"g=\"+str(gravity_)], color=color_lst[0], linestyle=linestyle, label=r\"$\\alpha$\"+\"=\"+str(alpha_)+\" kPa, \"+str(g))\n",
    "    color_lst=color_lst[1:]\n",
    "plt.legend()\n",
    "plt.grid()\n",
    "plt.show()"
   ]
  }
 ],
 "metadata": {
  "kernelspec": {
   "display_name": "all",
   "language": "python",
   "name": "python3"
  },
  "language_info": {
   "codemirror_mode": {
    "name": "ipython",
    "version": 3
   },
   "file_extension": ".py",
   "mimetype": "text/x-python",
   "name": "python",
   "nbconvert_exporter": "python",
   "pygments_lexer": "ipython3",
   "version": "3.8.12"
  },
  "orig_nbformat": 4
 },
 "nbformat": 4,
 "nbformat_minor": 2
}
