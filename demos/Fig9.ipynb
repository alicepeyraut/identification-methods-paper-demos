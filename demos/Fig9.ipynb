{
 "cells": [
  {
   "attachments": {},
   "cell_type": "markdown",
   "metadata": {},
   "source": [
    "# Figure 9"
   ]
  },
  {
   "attachments": {},
   "cell_type": "markdown",
   "metadata": {},
   "source": [
    "## Imports"
   ]
  },
  {
   "cell_type": "code",
   "execution_count": null,
   "metadata": {},
   "outputs": [],
   "source": [
    "import dolfin\n",
    "import matplotlib.pyplot as plt\n",
    "import meshio\n",
    "import numpy\n",
    "\n",
    "import dolfin_mech as dmech\n",
    "\n",
    "import get_invariants"
   ]
  },
  {
   "attachments": {},
   "cell_type": "markdown",
   "metadata": {},
   "source": [
    "## Parameters"
   ]
  },
  {
   "attachments": {},
   "cell_type": "markdown",
   "metadata": {},
   "source": [
    "### Mesh"
   ]
  },
  {
   "cell_type": "code",
   "execution_count": null,
   "metadata": {},
   "outputs": [],
   "source": [
    "cube_params = {\"path_and_mesh_name\":\"Data/generic_mesh.xdmf\"}"
   ]
  },
  {
   "attachments": {},
   "cell_type": "markdown",
   "metadata": {},
   "source": [
    "### Material"
   ]
  },
  {
   "cell_type": "code",
   "execution_count": null,
   "metadata": {},
   "outputs": [],
   "source": [
    "params = {\n",
    "    \"alpha\":0.16,     # kPa\n",
    "    \"gamma\":0.5,      # [-]\n",
    "    \"c1\":0.6,         # kPa\n",
    "    \"c2\":0.,          # kPa\n",
    "    \"kappa\":1e2,      # kPa\n",
    "    \"eta\":1e-5,       # kPa\n",
    "    \"rho_solid\":1e-6} # g/mm3\n",
    "mat_params = {\"scaling\":\"linear\", \"parameters\":params}"
   ]
  },
  {
   "attachments": {},
   "cell_type": "markdown",
   "metadata": {},
   "source": [
    "## Loading"
   ]
  },
  {
   "cell_type": "code",
   "execution_count": null,
   "metadata": {},
   "outputs": [],
   "source": [
    "pe = -0.5    # kPa\n",
    "pi = -2.0    # kPa\n",
    "g  = +9.81e3 # mm/s2"
   ]
  },
  {
   "attachments": {},
   "cell_type": "markdown",
   "metadata": {},
   "source": [
    "## Computing strain fields in prone and supine positions"
   ]
  },
  {
   "cell_type": "code",
   "execution_count": null,
   "metadata": {},
   "outputs": [],
   "source": [
    "invariants = {}\n",
    "\n",
    "gravity_lst = [-1.,+1.]\n",
    "for gravity_cste in gravity_lst:\n",
    "\n",
    "    ### computing the unloaded configuration\n",
    "    Uref, phisref_computation, dV_expi_ini = dmech.run_RivlinCube_PoroHyperelasticity(\n",
    "        inverse=1,\n",
    "        cube_params=cube_params,\n",
    "        mat_params=mat_params,\n",
    "        inertia_params={\"applied\":True, \"rho_val\":1e-8},\n",
    "        step_params={\"dt_min\":1e-4, \"dt_ini\":1},\n",
    "        load_params={\"type\":\"p_boundary_condition0\", \"f\":gravity_cste*g, \"P0\":float(pe)},\n",
    "        res_basename=\"Fig9-unloaded\",\n",
    "        get_results=1,\n",
    "        verbose=1)\n",
    "\n",
    "    phisref_imposed = [numpy.random.uniform(low=0.4, high=0.6) for i in range(len(phisref_computation))]\n",
    "\n",
    "    ### computing the end-exhalation configuration\n",
    "    U_exhal, phisexhal, dV_unloaded = dmech.run_RivlinCube_PoroHyperelasticity(\n",
    "        cube_params=cube_params,\n",
    "        move_params = {\"move\":True, \"U\":Uref},\n",
    "        porosity_params={\"type\":\"function_xml_from_array\", \"val\":phisref_imposed},\n",
    "        mat_params=mat_params,\n",
    "        inertia_params={\"applied\":True, \"rho_val\":1e-8},\n",
    "        step_params={\"dt_min\":1e-4, \"dt_ini\":0.125},\n",
    "        load_params={\"type\":\"p_boundary_condition\", \"f\":gravity_cste*g, \"P0\":float(pe)},\n",
    "        res_basename=\"Fig9-exhalation\",\n",
    "        get_results=1,\n",
    "        verbose=1)\n",
    "\n",
    "    ### computing the end-inhalation configuration\n",
    "    U_inhal, phisinhal, dV_unloaded = dmech.run_RivlinCube_PoroHyperelasticity(\n",
    "        cube_params=cube_params,\n",
    "        move_params = {\"move\":True, \"U\":Uref},\n",
    "        porosity_params={\"type\":\"function_xml_from_array\", \"val\":phisref_imposed},\n",
    "        mat_params=mat_params,\n",
    "        inertia_params={\"applied\":True, \"rho_val\":1e-8},\n",
    "        step_params={\"dt_min\":1e-4, \"dt_ini\":0.125},\n",
    "        load_params={\"type\":\"p_boundary_condition\", \"f\":gravity_cste*g, \"P0\":float(pi)},\n",
    "        res_basename=\"Fig9-inhalation\",\n",
    "        get_results=1,\n",
    "        verbose=1)\n",
    "\n",
    "    mesh = dolfin.Mesh()\n",
    "    mesh_name = str(cube_params[\"path_and_mesh_name\"])\n",
    "    dolfin.XDMFFile(mesh_name).read(mesh)\n",
    "    dolfin.ALE.move(mesh, Uref)\n",
    "\n",
    "    invariants_mesh = get_invariants.get_invariants(U_exhal=U_exhal, U_inhal=U_inhal, mesh=mesh, lognorm=False)\n",
    "    invariants[\"g=\"+str(gravity_cste)] = invariants_mesh"
   ]
  },
  {
   "attachments": {},
   "cell_type": "markdown",
   "metadata": {},
   "source": [
    "## Post-processing"
   ]
  },
  {
   "attachments": {},
   "cell_type": "markdown",
   "metadata": {},
   "source": [
    "### Reading displacement field from [Patte et al.] and computing associated invariants"
   ]
  },
  {
   "cell_type": "code",
   "execution_count": null,
   "metadata": {},
   "outputs": [],
   "source": [
    "mesh = dolfin.Mesh()\n",
    "dolfin.XDMFFile(\"Data/patte_mesh.xdmf\").read(mesh)\n",
    "fe = dolfin.VectorElement(\n",
    "    family=\"CG\",\n",
    "    cell=mesh.ufl_cell(),\n",
    "    degree=1)\n",
    "U_fs= dolfin.FunctionSpace(\n",
    "    mesh,\n",
    "    fe)\n",
    "\n",
    "U_inhal_patte = dolfin.Function(U_fs, name=\"U\")\n",
    "U_exhal_patte = dolfin.Function(U_fs, name=\"U\")\n",
    "\n",
    "mesh_meshio = meshio.read(\"Data/patte_mesh.xdmf\")\n",
    "u_meshio = mesh_meshio.point_data[\"U\"]\n",
    "u_meshio = u_meshio.tolist()\n",
    "u_meshio = [item for sublist in u_meshio for item in sublist] \n",
    "\n",
    "c = 0\n",
    "for dof in dolfin.vertex_to_dof_map(U_fs):\n",
    "    U_inhal_patte.vector()[dof] = u_meshio[c]\n",
    "    U_exhal_patte.vector()[dof] = 0.\n",
    "    c += 1\n",
    "\n",
    "invariants_mesh_patte = get_invariants.get_invariants(U_exhal=U_exhal_patte, U_inhal=U_inhal_patte, mesh=mesh, lognorm=False)"
   ]
  },
  {
   "attachments": {},
   "cell_type": "markdown",
   "metadata": {},
   "source": [
    "### Generating plots"
   ]
  },
  {
   "attachments": {},
   "cell_type": "markdown",
   "metadata": {},
   "source": [
    "#### I1"
   ]
  },
  {
   "cell_type": "code",
   "execution_count": null,
   "metadata": {},
   "outputs": [],
   "source": [
    "fig, ax = plt.subplots()\n",
    "plt.plot(invariants[\"g=-1.0\"][\"zone\"] , invariants[\"g=-1.0\"][\"I1\"] , color=\"red\"  , linestyle=\"-\", marker=\"s\", label=\"Prone position\" )\n",
    "plt.plot(invariants[\"g=1.0\"][\"zone\"]  , invariants[\"g=1.0\"][\"I1\"]  , color=\"blue\" , linestyle=\"-\", marker=\"s\", label=\"Supine position\")\n",
    "plt.plot(invariants_mesh_patte[\"zone\"], invariants_mesh_patte[\"I1\"], color=\"green\", linestyle=\"-\", marker=\"s\", label=\"[Patte et al.]\" )\n",
    "ax.set_ylabel(\"I1\")\n",
    "ax.set_title(\"zone\")\n",
    "plt.legend(loc=\"upper right\")\n",
    "plt.grid()\n",
    "plt.show()"
   ]
  },
  {
   "attachments": {},
   "cell_type": "markdown",
   "metadata": {},
   "source": [
    "#### I2"
   ]
  },
  {
   "cell_type": "code",
   "execution_count": null,
   "metadata": {},
   "outputs": [],
   "source": [
    "fig, ax = plt.subplots()\n",
    "plt.plot(invariants[\"g=-1.0\"][\"zone\"] , invariants[\"g=-1.0\"][\"I2\"] , color=\"red\"  , linestyle=\"-\", marker=\"s\", label=\"Prone position\" )\n",
    "plt.plot(invariants[\"g=1.0\"][\"zone\"]  , invariants[\"g=1.0\"][\"I2\"]  , color=\"blue\" , linestyle=\"-\", marker=\"s\", label=\"Supine position\")\n",
    "plt.plot(invariants_mesh_patte[\"zone\"], invariants_mesh_patte[\"I2\"], color=\"green\", linestyle=\"-\", marker=\"s\", label=\"[Patte et al.]\" )\n",
    "ax.set_ylabel(\"I2\")\n",
    "ax.set_title(\"zone\")\n",
    "plt.legend(loc=\"upper right\")\n",
    "plt.grid()\n",
    "plt.show()"
   ]
  },
  {
   "attachments": {},
   "cell_type": "markdown",
   "metadata": {},
   "source": [
    "#### J"
   ]
  },
  {
   "cell_type": "code",
   "execution_count": null,
   "metadata": {},
   "outputs": [],
   "source": [
    "fig, ax = plt.subplots()\n",
    "plt.plot(invariants[\"g=-1.0\"][\"zone\"] , invariants[\"g=-1.0\"][\"J\"] , color=\"red\"  , linestyle=\"-\", marker=\"s\", label=\"Prone position\" )\n",
    "plt.plot(invariants[\"g=1.0\"][\"zone\"]  , invariants[\"g=1.0\"][\"J\"]  , color=\"blue\" , linestyle=\"-\", marker=\"s\", label=\"Supine position\")\n",
    "plt.plot(invariants_mesh_patte[\"zone\"], invariants_mesh_patte[\"J\"], color=\"green\", linestyle=\"-\", marker=\"s\", label=\"[Patte et al.]\" )\n",
    "ax.set_ylabel(\"J\")\n",
    "ax.set_title(\"zone\")\n",
    "plt.legend(loc=\"upper right\")\n",
    "plt.grid()\n",
    "plt.show()"
   ]
  }
 ],
 "metadata": {
  "kernelspec": {
   "display_name": "all",
   "language": "python",
   "name": "python3"
  },
  "language_info": {
   "codemirror_mode": {
    "name": "ipython",
    "version": 3
   },
   "file_extension": ".py",
   "mimetype": "text/x-python",
   "name": "python",
   "nbconvert_exporter": "python",
   "pygments_lexer": "ipython3",
   "version": "3.8.12"
  },
  "orig_nbformat": 4
 },
 "nbformat": 4,
 "nbformat_minor": 2
}
